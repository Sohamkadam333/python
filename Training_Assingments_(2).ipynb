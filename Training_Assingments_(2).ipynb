{
  "cells": [
    {
      "cell_type": "markdown",
      "metadata": {
        "id": "view-in-github",
        "colab_type": "text"
      },
      "source": [
        "<a href=\"https://colab.research.google.com/github/Sohamkadam333/python/blob/master/Training_Assingments_(2).ipynb\" target=\"_parent\"><img src=\"https://colab.research.google.com/assets/colab-badge.svg\" alt=\"Open In Colab\"/></a>"
      ]
    },
    {
      "cell_type": "code",
      "source": [
        "# Python3 code to draw a triangle and find centroid\n",
        "import json\n",
        "from google.colab.patches import cv2_imshow\n",
        "# importing libraries\n",
        "import numpy as np\n",
        "import cv2\n",
        "\n",
        "# Width and height of the black window\n",
        "width = 400\n",
        "height = 300\n",
        "\n",
        "# Create a black window of 400 x 300\n",
        "img = np.zeros((height, width, 3), np.uint8)\n",
        "\n",
        "# Three vertices(tuples) of the triangle\n",
        "p1 = (100, 200)\n",
        "p2 = (50, 50)\n",
        "p3 = (300, 100)\n",
        "\n",
        "x1 = {\"p1\":p1,\"p2\":p2,\"p3\":p3}\n",
        "y = json.dumps(x1)\n",
        "print(y)\n",
        "\n",
        "# Serializing json\n",
        "json_object = json.dumps(x1)\n",
        "\n",
        "# Writing to sample.json\n",
        "with open(\"sample.json\", \"w\") as outfile:\n",
        "    outfile.write(json_object)\n",
        "\n",
        "v1 = 0\n",
        "v2 = 0\n",
        "v3 = 0\n",
        "\n",
        "with open(\"newTriangle.json\",\"r\") as json_file:\n",
        "    data = json.load(json_file)\n",
        "    # Print the type of data variable\n",
        "    # new vertices\n",
        "    print(\"new vertices\")\n",
        "    print(data)\n",
        "    print(\"Type:\", type(data))\n",
        "    # setting vertices form external file\n",
        "    v1 = data['p1']\n",
        "    v2 = data['p2']\n",
        "    v3 = data['p3']\n",
        "\n",
        "# Drawing the triangle with the help of lines\n",
        "# on the black window With given points\n",
        "# cv2.line is the inbuilt function in opencv library\n",
        "cv2.line(img, v1, v2, (255, 0, 0), 3)\n",
        "cv2.line(img, v2, v3, (255, 0, 0), 3)\n",
        "cv2.line(img, v1, v3, (255, 0, 0), 3)\n",
        "\n",
        "# finding centroid using the following formula\n",
        "# (X, Y) = (x1 + x2 + x3//3, y1 + y2 + y3//3)\n",
        "centroid = ((v1[0]+v2[0]+v3[0])//3, (v1[1]+v2[1]+v3[1])//3)\n",
        "\n",
        "# Drawing the centroid on the window\n",
        "cv2.circle(img, centroid, 4, (0, 255, 0))\n",
        "\n",
        "# image is the title of the window\n",
        "cv2_imshow(img)\n",
        "cv2.waitKey(0)\n"
      ],
      "metadata": {
        "colab": {
          "base_uri": "https://localhost:8080/",
          "height": 404
        },
        "id": "QflQgSIoUgL4",
        "outputId": "e541f757-9709-4102-f163-cbe29bac296a"
      },
      "execution_count": 9,
      "outputs": [
        {
          "output_type": "stream",
          "name": "stdout",
          "text": [
            "{\"p1\": [100, 200], \"p2\": [50, 50], \"p3\": [300, 100]}\n",
            "new vertices\n",
            "{'p1': [100, 50], 'p2': [200, 250], 'p3': [350, 100]}\n",
            "Type: <class 'dict'>\n"
          ]
        },
        {
          "output_type": "display_data",
          "data": {
            "text/plain": [
              "<PIL.Image.Image image mode=RGB size=400x300 at 0x7F4C9FBD1950>"
            ],
            "image/png": "[encoded data removed]"
          },
          "metadata": {}
        },
        {
          "output_type": "execute_result",
          "data": {
            "text/plain": [
              "-1"
            ]
          },
          "metadata": {},
          "execution_count": 9
        }
      ]
    }
  ],
  "metadata": {
    "colab": {
      "provenance": [],
      "collapsed_sections": [],
      "include_colab_link": true
    },
    "kernelspec": {
      "display_name": "Python 3",
      "name": "python3"
    },
    "language_info": {
      "name": "python"
    }
  },
  "nbformat": 4,
  "nbformat_minor": 0
}